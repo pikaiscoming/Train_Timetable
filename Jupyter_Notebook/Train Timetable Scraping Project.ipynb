{
 "cells": [
  {
   "cell_type": "markdown",
   "id": "735fcfd1",
   "metadata": {},
   "source": [
    "# Train Timetable Scraping Project\n",
    "\n",
    "We want to get data from https://tip.railway.gov.tw//tra-tip-web/tip/tip001/tip112/querybytime. \n",
    "Surly, we can't not just POST form and GET information, we need to tranform our words to let website understand.\n",
    "This project is also a test for myself, which test my web crawler skill.\n",
    "So let's step-by-step.\n",
    "\n",
    "\n"
   ]
  },
  {
   "cell_type": "markdown",
   "id": "5a44843a",
   "metadata": {},
   "source": [
    "## import packages"
   ]
  },
  {
   "cell_type": "code",
   "execution_count": 17,
   "id": "e6076c22",
   "metadata": {},
   "outputs": [],
   "source": [
    "from bs4 import BeautifulSoup as BS\n",
    "import requests\n",
    "import datetime\n",
    "import re\n",
    "import openpyxl as pyxl # We need to get station code by checking Excel file"
   ]
  },
  {
   "cell_type": "markdown",
   "id": "306d5d99",
   "metadata": {},
   "source": [
    "## Station's Code Table\n",
    "You can search the table from https://tip.railway.gov.tw/tra-tip-web/tip/tip001/tip111/view. I save the data into Excel and use the Python package *openpyxl* to read it.\n",
    "If you want to save the table into another format, like **CSV** or **JSON**, which are fine. You should ensure you can get the station name and station code one by one because posting the request need both of them. "
   ]
  },
  {
   "cell_type": "markdown",
   "id": "aa3afa4f",
   "metadata": {},
   "source": [
    "## Make a Dictionary of Station Names and Station Codes\n",
    "Use *pyopenxl* to read the data and create a dictionary."
   ]
  },
  {
   "cell_type": "code",
   "execution_count": 18,
   "id": "90ad2099",
   "metadata": {},
   "outputs": [
    {
     "data": {
      "text/plain": [
       "<Worksheet \"worksheet1\">"
      ]
     },
     "execution_count": 18,
     "metadata": {},
     "output_type": "execute_result"
    }
   ],
   "source": [
    "'''load data'''\n",
    "\n",
    "wb = pyxl.load_workbook('stationtonumber.xlsx') \n",
    "sheet = wb['worksheet1']\n",
    "sheet = wb.active\n",
    "sheet"
   ]
  },
  {
   "cell_type": "code",
   "execution_count": 19,
   "id": "2228cbf6",
   "metadata": {},
   "outputs": [
    {
     "data": {
      "text/plain": [
       "{'基隆': 900,\n",
       " '三坑': 910,\n",
       " '八堵': 920,\n",
       " '七堵': 930,\n",
       " '百福': 940,\n",
       " '五堵': 950,\n",
       " '汐止': 960,\n",
       " '汐科': 970,\n",
       " '南港': 980,\n",
       " '松山': 990,\n",
       " '臺北': 1000,\n",
       " '萬華': 1010,\n",
       " '板橋': 1020,\n",
       " '浮洲': 1030,\n",
       " '樹林': 1040,\n",
       " '南樹林': 1050,\n",
       " '山佳': 1060,\n",
       " '鶯歌': 1070,\n",
       " '桃園': 1080,\n",
       " '內壢': 1090,\n",
       " '中壢': 1100,\n",
       " '埔心': 1110,\n",
       " '楊梅': 1120,\n",
       " '富岡': 1130,\n",
       " '新富': 1140,\n",
       " '北湖': 1150,\n",
       " '湖口': 1160,\n",
       " '新豐': 1170,\n",
       " '竹北': 1180,\n",
       " '北新竹': 1190,\n",
       " '新竹': 1210,\n",
       " '三姓橋': 1220,\n",
       " '香山': 1230,\n",
       " '崎頂': 1240,\n",
       " '竹南': 1250,\n",
       " '造橋': 3140,\n",
       " '豐富': 3150,\n",
       " '苗栗': 3160,\n",
       " '南勢': 3170,\n",
       " '銅鑼': 3180,\n",
       " '三義': 3190,\n",
       " '泰安': 3210,\n",
       " '后里': 3220,\n",
       " '豐原': 3230,\n",
       " '栗林': 3240,\n",
       " '潭子': 3250,\n",
       " '頭家厝': 3260,\n",
       " '松竹': 3270,\n",
       " '太原': 3280,\n",
       " '精武': 3290,\n",
       " '臺中': 3300,\n",
       " '五權': 3310,\n",
       " '大慶': 3320,\n",
       " '烏日': 3330,\n",
       " '新烏日': 3340,\n",
       " '成功': 3350,\n",
       " '彰化': 3360,\n",
       " '花壇': 3370,\n",
       " '大村': 3380,\n",
       " '員林': 3390,\n",
       " '永靖': 3400,\n",
       " '社頭': 3410,\n",
       " '田中': 3420,\n",
       " '二水': 3430,\n",
       " '林內': 3450,\n",
       " '石榴': 3460,\n",
       " '斗六': 3470,\n",
       " '斗南': 3480,\n",
       " '石龜': 3490,\n",
       " '大林': 4050,\n",
       " '民雄': 4060,\n",
       " '嘉北': 4070,\n",
       " '嘉義': 4080,\n",
       " '水上': 4090,\n",
       " '南靖': 4100,\n",
       " '後壁': 4110,\n",
       " '新營': 4120,\n",
       " '柳營': 4130,\n",
       " '林鳳營': 4140,\n",
       " '隆田': 4150,\n",
       " '拔林': 4160,\n",
       " '善化': 4170,\n",
       " '南科': 4180,\n",
       " '新市': 4190,\n",
       " '永康': 4200,\n",
       " '大橋': 4210,\n",
       " '臺南': 4220,\n",
       " '林森': 4230,\n",
       " '南臺南': 4240,\n",
       " '保安': 4250,\n",
       " '仁德': 4260,\n",
       " '中洲': 4270,\n",
       " '大湖': 4290,\n",
       " '路竹': 4300,\n",
       " '岡山': 4310,\n",
       " '橋頭': 4320,\n",
       " '楠梓': 4330,\n",
       " '新左營': 4340,\n",
       " '左營': 4350,\n",
       " '內惟': 4360,\n",
       " '美術館': 4370,\n",
       " '鼓山': 4380,\n",
       " '三塊厝': 4390,\n",
       " '高雄': 4400,\n",
       " '民族': 4410,\n",
       " '科工館': 4420,\n",
       " '正義': 4430,\n",
       " '鳳山': 4440,\n",
       " '後庄': 4450,\n",
       " '九曲堂': 4460,\n",
       " '六塊厝': 4470,\n",
       " '屏東': 5000,\n",
       " '談文': 2110,\n",
       " '大山': 2120,\n",
       " '後龍': 2130,\n",
       " '龍港': 2140,\n",
       " '白沙屯': 2150,\n",
       " '新埔': 2160,\n",
       " '通霄': 2170,\n",
       " '苑裡': 2180,\n",
       " '日南': 2190,\n",
       " '大甲': 2200,\n",
       " '臺中港': 2210,\n",
       " '清水': 2220,\n",
       " '沙鹿': 2230,\n",
       " '龍井': 2240,\n",
       " '大肚': 2250,\n",
       " '追分': 2260,\n",
       " '暖暖': 7390,\n",
       " '四腳亭': 7380,\n",
       " '瑞芳': 7360,\n",
       " '猴硐': 7350,\n",
       " '三貂嶺': 7330,\n",
       " '牡丹': 7320,\n",
       " '雙溪': 7310,\n",
       " '貢寮': 7300,\n",
       " '福隆': 7290,\n",
       " '石城': 7280,\n",
       " '大里': 7270,\n",
       " '大溪': 7260,\n",
       " '龜山': 7250,\n",
       " '外澳': 7240,\n",
       " '頭城': 7230,\n",
       " '頂埔': 7220,\n",
       " '礁溪': 7210,\n",
       " '四城': 7200,\n",
       " '宜蘭': 7190,\n",
       " '二結': 7180,\n",
       " '中里': 7170,\n",
       " '羅東': 7160,\n",
       " '冬山': 7150,\n",
       " '新馬': 7140,\n",
       " '蘇澳新站': 7130,\n",
       " '蘇澳': 7120,\n",
       " '永樂': 7110,\n",
       " '東澳': 7100,\n",
       " '南澳': 7090,\n",
       " '武塔': 7080,\n",
       " '漢本': 7070,\n",
       " '和平': 7060,\n",
       " '和仁': 7050,\n",
       " '崇德': 7040,\n",
       " '新城': 7030,\n",
       " '景美': 7020,\n",
       " '北埔': 7010,\n",
       " '花蓮': 7000,\n",
       " '吉安': 6250,\n",
       " '志學': 6240,\n",
       " '平和': 6230,\n",
       " '壽豐': 6220,\n",
       " '豐田': 6210,\n",
       " '林榮新光': 6200,\n",
       " '南平': 6190,\n",
       " '鳳林': 6180,\n",
       " '萬榮': 6170,\n",
       " '光復': 6160,\n",
       " '大富': 6150,\n",
       " '富源': 6140,\n",
       " '瑞穗': 6130,\n",
       " '三民': 6120,\n",
       " '玉里': 6110,\n",
       " '東里': 6100,\n",
       " '東竹': 6090,\n",
       " '富里': 6080,\n",
       " '池上': 6070,\n",
       " '海端': 6060,\n",
       " '關山': 6050,\n",
       " '瑞和': 6040,\n",
       " '瑞源': 6030,\n",
       " '鹿野': 6020,\n",
       " '山里': 6010,\n",
       " '臺東': 6000,\n",
       " '歸來': 5010,\n",
       " '麟洛': 5020,\n",
       " '西勢': 5030,\n",
       " '竹田': 5040,\n",
       " '潮州': 5050,\n",
       " '崁頂': 5060,\n",
       " '南州': 5070,\n",
       " '鎮安': 5080,\n",
       " '林邊': 5090,\n",
       " '佳冬': 5100,\n",
       " '東海': 5110,\n",
       " '枋寮': 5120,\n",
       " '加祿': 5130,\n",
       " '內獅': 5140,\n",
       " '枋山': 5160,\n",
       " '大武': 5190,\n",
       " '瀧溪': 5200,\n",
       " '金崙': 5210,\n",
       " '太麻里': 5220,\n",
       " '知本': 5230,\n",
       " '康樂': 5240,\n",
       " '大華': 7331,\n",
       " '十分': 7332,\n",
       " '望古': 7333,\n",
       " '嶺腳': 7334,\n",
       " '平溪': 7335,\n",
       " '菁桐': 7336,\n",
       " '千甲': 1191,\n",
       " '新莊': 1192,\n",
       " '竹中': 1193,\n",
       " '上員': 1201,\n",
       " '榮華': 1202,\n",
       " '竹東': 1203,\n",
       " '橫山': 1204,\n",
       " '九讚頭': 1205,\n",
       " '合興': 1206,\n",
       " '富貴': 1207,\n",
       " '內灣': 1208,\n",
       " '源泉': 3431,\n",
       " '濁水': 3432,\n",
       " '龍泉': 3433,\n",
       " '集集': 3434,\n",
       " '水里': 3435,\n",
       " '車埕': 3436,\n",
       " '長榮大學': 4271,\n",
       " '沙崙': 4272,\n",
       " '六家': 1194,\n",
       " '海科館': 7361,\n",
       " '八斗子': 7362}"
      ]
     },
     "execution_count": 19,
     "metadata": {},
     "output_type": "execute_result"
    }
   ],
   "source": [
    "'''use loop to create dictionary'''\n",
    "\n",
    "station_code = {}\n",
    "\n",
    "for i in range(1,sheet.max_row,2):\n",
    "\n",
    "    station_code[sheet.cell(row=i, column=1).value] = sheet.cell(row=i+1, column=1).value\n",
    "    \n",
    "station_code"
   ]
  },
  {
   "cell_type": "markdown",
   "id": "c6dddcba",
   "metadata": {},
   "source": [
    "## Input Departure-Station, Arrival-Station and Codes\n",
    "When we search the timetable by station's names and get the codes by dictionary we created above. However, people often search stations by typing the word **台** instead of **臺**, but the website need the word **臺** to find out **臺北**, **台中** and some other big city. So when **台** is inputted, we sure convert it into **臺**."
   ]
  },
  {
   "cell_type": "code",
   "execution_count": 27,
   "id": "7ecc7950",
   "metadata": {},
   "outputs": [
    {
     "name": "stdout",
     "output_type": "stream",
     "text": [
      "Enter the departure station:台北\n",
      "Enter the arrival station:台中\n"
     ]
    }
   ],
   "source": [
    "'''input stations name to search'''\n",
    "\n",
    "st = input('Enter the departure station:')\n",
    "ed = input('Enter the arrival station:')\n",
    "\n",
    "def getstations_input(station_name): #make sure stations name is correct\n",
    "    a = list(station_name)\n",
    "#    if a not in \n",
    "    if a[0] == '台':\n",
    "        a[0] = '臺'\n",
    "    \n",
    "    a = ''.join([i for i in a]) #必須是臺這個才能查\n",
    "    a = str(station_code[a]) + '-'  + a\n",
    "\n",
    "    return a"
   ]
  },
  {
   "cell_type": "markdown",
   "id": "f5634449",
   "metadata": {},
   "source": [
    "## Time Range to Search\n",
    "People always search the train schedule when they need to depture this city today, therefore, I use *datetime* to get current local time making it be **StartTime**. In the other hand,**EndTime** is set by 23:59.\n",
    "Except for hour and min, YMD need to be confirmed and transform them into appropriate format."
   ]
  },
  {
   "cell_type": "code",
   "execution_count": 21,
   "id": "02d1ee5d",
   "metadata": {},
   "outputs": [
    {
     "data": {
      "text/plain": [
       "datetime.datetime(2022, 4, 26, 20, 25, 54, 791814)"
      ]
     },
     "execution_count": 21,
     "metadata": {},
     "output_type": "execute_result"
    }
   ],
   "source": [
    "dt = datetime.datetime.now()\n",
    "dt"
   ]
  },
  {
   "cell_type": "code",
   "execution_count": 22,
   "id": "570595d1",
   "metadata": {},
   "outputs": [
    {
     "data": {
      "text/plain": [
       "'2022/04/26'"
      ]
     },
     "execution_count": 22,
     "metadata": {},
     "output_type": "execute_result"
    }
   ],
   "source": [
    "day = dt.strftime('%Y/%m/%d') #YMD format \n",
    "day"
   ]
  },
  {
   "cell_type": "markdown",
   "id": "ade42c6e",
   "metadata": {},
   "source": [
    "### Time Range Modification \n",
    "If current time over an half hour, I decide to let the hour of **StartTime** plus one. For example, it is 13:42 now, then **StartTime** will become 14:00. The reason for this modification is that I have to spend almost an hour going to train station.\n",
    "To add two hours to decide **EndTime** make sure I can arrive station on time and don't need to show the schedule two hours later. "
   ]
  },
  {
   "cell_type": "code",
   "execution_count": 23,
   "id": "480b0a03",
   "metadata": {},
   "outputs": [
    {
     "name": "stdout",
     "output_type": "stream",
     "text": [
      "StartTime: 20:00\n",
      "EndTime: 22:00\n"
     ]
    }
   ],
   "source": [
    "'''Modification'''\n",
    "Min = int(dt.strftime('%M'))\n",
    "hour = int(dt.strftime('%H'))\n",
    "if Min >= 30:\n",
    "    hour +=1\n",
    "    Min = '00'\n",
    "else:\n",
    "    Min = '00'\n",
    "start = str(hour)+':'+ Min    \n",
    "end = str(hour+2) + ':' + Min\n",
    "\n",
    "print('StartTime: ' + start)\n",
    "print('EndTime: ' + end)"
   ]
  },
  {
   "cell_type": "markdown",
   "id": "449ba6b4",
   "metadata": {},
   "source": [
    "### Careful!!!\n",
    "The website doesn't allow user asking train timetable which time range includes two days.\n",
    "Therefore, if **EndTime** will over 24:00, it will turn to 23:59. "
   ]
  },
  {
   "cell_type": "code",
   "execution_count": 24,
   "id": "08327b49",
   "metadata": {},
   "outputs": [],
   "source": [
    "if hour == 22:\n",
    "    end = '23:59'"
   ]
  },
  {
   "cell_type": "markdown",
   "id": "bfd540b9",
   "metadata": {},
   "source": [
    "## POST Information and GET Result\n",
    "When you search the timetable on website, you should fill in the form and send it out. Now we have to finish it by Python and just like a real person to request information from website.\n",
    "I check the website and know what information should be posted, such as StartTime, EndTime which we created above. Others will be introduced below."
   ]
  },
  {
   "cell_type": "markdown",
   "id": "97a7ee8d",
   "metadata": {},
   "source": [
    "### briefly Introduce Data Dictionary \n",
    "- _csrf: It is a token. \n",
    "- startStation: Where you departure from.\n",
    "- endStation: Where you want to arrive.\n",
    "- transfer: How many times transfer between start and end.\n",
    "- rideDate: The day you departure.\n",
    "- startOrEndTime: \n",
    "- startTime: Start of time range you search.\n",
    "- endTime: End of time range you search.\n",
    "- trainTypeList: Kinds of trains you want.\n",
    "- _isQryEarlyBirdTrn: Search early bird discount ticket.\n",
    "- query: Search."
   ]
  },
  {
   "cell_type": "code",
   "execution_count": 25,
   "id": "6f5a7d4c",
   "metadata": {},
   "outputs": [],
   "source": [
    "'''Dictionary we need to post'''\n",
    "data = {\n",
    "        '_csrf': '1275647f-8532-4d14-9fb0-bcb84bf61f4c',\n",
    "        'startStation': \"\", \n",
    "        'endStation': \"\",\n",
    "        'transfer': \"ONE\",\n",
    "        'rideDate': \"2021/12/09\",\n",
    "        'startOrEndTime': \"true\",\n",
    "        'startTime': \"\",\n",
    "        'endTime': \"\",\n",
    "        'trainTypeList': \"ALL\",\n",
    "        '_isQryEarlyBirdTrn': \"on\",\n",
    "        'query': \"查詢\"\n",
    "        }\n"
   ]
  },
  {
   "cell_type": "code",
   "execution_count": 29,
   "id": "50e85305",
   "metadata": {},
   "outputs": [
    {
     "data": {
      "text/plain": [
       "{'_csrf': '1275647f-8532-4d14-9fb0-bcb84bf61f4c',\n",
       " 'startStation': '1000-臺北',\n",
       " 'endStation': '3300-臺中',\n",
       " 'transfer': 'ONE',\n",
       " 'rideDate': '2022/04/26',\n",
       " 'startOrEndTime': 'true',\n",
       " 'startTime': '20:00',\n",
       " 'endTime': '22:00',\n",
       " 'trainTypeList': 'ALL',\n",
       " '_isQryEarlyBirdTrn': 'on',\n",
       " 'query': '查詢'}"
      ]
     },
     "execution_count": 29,
     "metadata": {},
     "output_type": "execute_result"
    }
   ],
   "source": [
    "'''Some data we need to insert into dictionary'''\n",
    "data['rideDate'] = day\n",
    "data['startTime'] = start\n",
    "data['endTime'] = end\n",
    "data['startStation'] = getstations_input(st)\n",
    "data['endStation'] = getstations_input(ed)\n",
    "data"
   ]
  },
  {
   "cell_type": "markdown",
   "id": "ecc45120",
   "metadata": {},
   "source": [
    "## Web Crawler Start!\n",
    "Use *request* package to post form and get data. After getting data, we can use *bs4* package to parse it."
   ]
  },
  {
   "cell_type": "code",
   "execution_count": 31,
   "id": "126847e7",
   "metadata": {},
   "outputs": [
    {
     "data": {
      "text/plain": [
       "<Response [200]>"
      ]
     },
     "execution_count": 31,
     "metadata": {},
     "output_type": "execute_result"
    }
   ],
   "source": [
    "session = requests.Session()\n",
    "url = 'https://tip.railway.gov.tw//tra-tip-web/tip/tip001/tip112/querybytime'\n",
    "\n",
    "s = session.get(url)\n",
    "bs = BS(s.text, 'html.parser')\n",
    "\n",
    "token = bs.find('form', {'id':\"queryForm\"}).input\n",
    "#print(token['value'])\n",
    "\n",
    "data['_csrf']=token['value']\n",
    "\n",
    "r = session.post(url, data=data)\n",
    "r"
   ]
  },
  {
   "cell_type": "code",
   "execution_count": 34,
   "id": "d5648284",
   "metadata": {},
   "outputs": [
    {
     "name": "stdout",
     "output_type": "stream",
     "text": [
      "Departure Time: 20:09 | Arriveal Time: 23:34 | Travel Time: 3 小時 25 分\n",
      "Departure Time: 20:15 | Arriveal Time: 21:59 | Travel Time: 1 小時 44 分\n",
      "Departure Time: 21:00 | Arriveal Time: 23:18 | Travel Time: 2 小時 18 分\n"
     ]
    }
   ],
   "source": [
    "try:\n",
    "    \n",
    "    bs = BS(r.text, 'html.parser')\n",
    "\n",
    "    trains= bs.find('div', {'class':\"search-trip\"}).find_all('tr', {'class':\"trip-column\"}) #find the data I want\n",
    "\n",
    "\n",
    "    for train in trains:\n",
    "        result = train.find_all('td', text=re.compile('\\d{2}.*'))\n",
    "        departure_time = result[0].get_text()\n",
    "        arrival_time =  result[1].get_text()\n",
    "        tarvel_time = result[2].get_text()\n",
    "        print('Departure Time: ' + departure_time,\n",
    "              'Arriveal Time: ' + arrival_time,\n",
    "              'Travel Time: ' + tarvel_time,\n",
    "              sep=' | ', end='\\n')\n",
    "except:\n",
    "    \n",
    "    print('We only can search the train schedule in one day.')\n",
    "    print('Maybe you should research after 00:00.')"
   ]
  },
  {
   "cell_type": "markdown",
   "id": "6e05c88e",
   "metadata": {},
   "source": [
    "## Now You Get Data.\n",
    "You can decide which train you want to ride. Something still can be imporved or revised so I wish one day I can make this project more easily to use and learn more about web crawler. "
   ]
  }
 ],
 "metadata": {
  "kernelspec": {
   "display_name": "Python 3 (ipykernel)",
   "language": "python",
   "name": "python3"
  },
  "language_info": {
   "codemirror_mode": {
    "name": "ipython",
    "version": 3
   },
   "file_extension": ".py",
   "mimetype": "text/x-python",
   "name": "python",
   "nbconvert_exporter": "python",
   "pygments_lexer": "ipython3",
   "version": "3.8.12"
  }
 },
 "nbformat": 4,
 "nbformat_minor": 5
}
