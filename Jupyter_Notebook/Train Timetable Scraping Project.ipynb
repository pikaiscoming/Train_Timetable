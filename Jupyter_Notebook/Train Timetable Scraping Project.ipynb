{
 "cells": [
  {
   "cell_type": "markdown",
   "id": "cb112363",
   "metadata": {},
   "source": [
    "# Train Timetable Scraping Project\n",
    "\n",
    "We want to get data from https://tip.railway.gov.tw//tra-tip-web/tip/tip001/tip112/querybytime. \n",
    "Surly, we can't not just POST and GET information, we need to tranform our words to let website know.\n",
    "So let's step-by-step.\n",
    "\n",
    "\n"
   ]
  },
  {
   "cell_type": "markdown",
   "id": "34cbb732",
   "metadata": {},
   "source": [
    "## import packages"
   ]
  },
  {
   "cell_type": "code",
   "execution_count": null,
   "id": "948e510e",
   "metadata": {},
   "outputs": [],
   "source": []
  }
 ],
 "metadata": {
  "kernelspec": {
   "display_name": "Python 3 (ipykernel)",
   "language": "python",
   "name": "python3"
  },
  "language_info": {
   "codemirror_mode": {
    "name": "ipython",
    "version": 3
   },
   "file_extension": ".py",
   "mimetype": "text/x-python",
   "name": "python",
   "nbconvert_exporter": "python",
   "pygments_lexer": "ipython3",
   "version": "3.8.12"
  }
 },
 "nbformat": 4,
 "nbformat_minor": 5
}
